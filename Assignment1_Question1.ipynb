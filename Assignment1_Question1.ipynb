{
  "nbformat": 4,
  "nbformat_minor": 0,
  "metadata": {
    "colab": {
      "provenance": [],
      "authorship_tag": "ABX9TyNOmFNLr/QwZn9+hZKUH4EW",
      "include_colab_link": true
    },
    "kernelspec": {
      "name": "python3",
      "display_name": "Python 3"
    },
    "language_info": {
      "name": "python"
    }
  },
  "cells": [
    {
      "cell_type": "markdown",
      "metadata": {
        "id": "view-in-github",
        "colab_type": "text"
      },
      "source": [
        "<a href=\"https://colab.research.google.com/github/HarikaDevi23/DATA_SCIENCE/blob/main/Assignment1_Question1.ipynb\" target=\"_parent\"><img src=\"https://colab.research.google.com/assets/colab-badge.svg\" alt=\"Open In Colab\"/></a>"
      ]
    },
    {
      "cell_type": "markdown",
      "source": [
        "Principles of Data Science\n",
        "\n",
        "Name : Harika Devi Alla\n",
        "\n",
        "ID : 16358867\n",
        "\n",
        "Assignment 1\n",
        "\n",
        "Question 1: Reproducible Workflow for Frailty Data\n",
        "\n",
        "\n",
        "Stage I – Data Collection:\n",
        "\n",
        "• Collect raw data (here, the table of 10 female participants) and save it in a CSV file (e.g., data/raw/frailty_data.csv).\n",
        "\n",
        "• Save metadata (e.g., explanation of units and coding) alongside the raw file.\n",
        "\n",
        "Stage II – Data Processing/Cleaning:\n",
        "\n",
        "• Read in the raw CSV file and perform cleaning steps (e.g., converting categorical values, checking for missing values).\n",
        "\n",
        "• Save the cleaned data in a separate folder (e.g., data/processed/frailty_data_clean.csv).\n",
        "\n",
        "Stage III – Data Analysis:\n",
        "\n",
        "• Analyze the cleaned data (e.g., compute descriptive statistics, correlations, or simple visualizations such as grouping grip strength by frailty).\n",
        "\n",
        "• Save analysis outputs and figures in an analysis folder (e.g., results/frailty_analysis/)."
      ],
      "metadata": {
        "id": "cM7dPEpvpD25"
      }
    },
    {
      "cell_type": "markdown",
      "source": [
        "Folder Structure\n",
        "\n",
        "A suggested folder layout for the “Frailty_Project” might be:\n",
        "\n",
        "Frailty_Project/\n",
        "\n",
        "├── data/\n",
        "\n",
        "│   ├── raw/\n",
        "\n",
        "│   │   └── frailty_raw.csv\n",
        "\n",
        "│   └── processed/\n",
        "\n",
        "│       └── frailty_processed.csv\n",
        "\n",
        "├── src/\n",
        "\n",
        "│   ├── data_collection.py\n",
        "\n",
        "│   ├── data_processing.py\n",
        "\n",
        "│   └── analysis.py\n",
        "\n",
        "├── results/\n",
        "\n",
        "│   └── analysis_results.txt\n",
        "\n",
        "\n"
      ],
      "metadata": {
        "id": "ABbJQxirzH_w"
      }
    },
    {
      "cell_type": "code",
      "source": [
        "# Stage I: Data Collection\n",
        "# Create a DataFrame with the frailty data and save as CSV\n",
        "\n",
        "import pandas as pd\n",
        "import os\n",
        "import seaborn as sns\n",
        "import matplotlib.pyplot as plt\n",
        "\n",
        "# Create a dictionary for the data from the table\n",
        "data = {\n",
        "    \"Height\": [65.8, 71.5, 69.4, 68.2, 67.8, 68.7, 69.8, 70.1, 67.9, 66.8],\n",
        "    \"Weight\": [112, 136, 153, 142, 144, 123, 141, 136, 112, 120],\n",
        "    \"Age\": [30, 19, 45, 22, 29, 50, 51, 23, 17, 39],\n",
        "    \"GripStrength\": [30, 31, 29, 28, 24, 26, 22, 20, 19, 31],\n",
        "    \"Frailty\": ['N', 'N', 'N', 'Y', 'Y', 'N', 'Y', 'Y', 'N', 'N']\n",
        "}\n",
        "\n",
        "df_raw = pd.DataFrame(data)\n",
        "print(\"Stage I - Raw Data:\")\n",
        "print(df_raw)\n",
        "\n",
        "# Create folder for raw data\n",
        "os.makedirs(\"data/raw\", exist_ok=True)\n",
        "raw_file_path = \"data/raw/frailty_data.csv\"\n",
        "df_raw.to_csv(raw_file_path, index=False)\n",
        "print(\"Raw frailty data saved to\", raw_file_path)\n"
      ],
      "metadata": {
        "colab": {
          "base_uri": "https://localhost:8080/"
        },
        "id": "Q6IikYG7qH_t",
        "outputId": "6b5a9b2a-bc1c-4786-b2dc-1bfd9d8f3452"
      },
      "execution_count": 51,
      "outputs": [
        {
          "output_type": "stream",
          "name": "stdout",
          "text": [
            "Stage I - Raw Data:\n",
            "   Height  Weight  Age  GripStrength Frailty\n",
            "0    65.8     112   30            30       N\n",
            "1    71.5     136   19            31       N\n",
            "2    69.4     153   45            29       N\n",
            "3    68.2     142   22            28       Y\n",
            "4    67.8     144   29            24       Y\n",
            "5    68.7     123   50            26       N\n",
            "6    69.8     141   51            22       Y\n",
            "7    70.1     136   23            20       Y\n",
            "8    67.9     112   17            19       N\n",
            "9    66.8     120   39            31       N\n",
            "Raw frailty data saved to data/raw/frailty_data.csv\n"
          ]
        }
      ]
    },
    {
      "cell_type": "code",
      "source": [
        "# Stage II: Data Processing/Cleaning\n",
        "# Read the raw data, convert Frailty to boolean (Y->True, N->False), and save processed data\n",
        "\n",
        "df = pd.read_csv(\"data/raw/frailty_data.csv\")\n",
        "\n",
        "print(\"\\nStage II - Data Processing:\")\n",
        "print(\"DataFrame Info:\")\n",
        "print(df.info())\n",
        "\n",
        "# Print first few rows\n",
        "print(\"DataFrame Preview:\")\n",
        "print(df.head())\n",
        "\n",
        "# Convert 'Frailty' column: 'Y' as True and 'N' as False\n",
        "df['Frailty'] = df['Frailty'].apply(lambda x: True if x.upper() == 'Y' else False)\n",
        "\n",
        "# Check for any missing values or outliers here\n",
        "print(\"Data types after processing:\")\n",
        "print(df.dtypes)\n",
        "\n",
        "# Save processed data\n",
        "os.makedirs(\"data/processed\", exist_ok=True)\n",
        "processed_file_path = \"data/processed/frailty_data_clean.csv\"\n",
        "df.to_csv(processed_file_path, index=False)\n",
        "print(\"Processed frailty data saved to\", processed_file_path)\n"
      ],
      "metadata": {
        "colab": {
          "base_uri": "https://localhost:8080/"
        },
        "id": "WzAjgcv4sHkj",
        "outputId": "b524f14e-9010-454a-82e3-50690db7e4b2"
      },
      "execution_count": 52,
      "outputs": [
        {
          "output_type": "stream",
          "name": "stdout",
          "text": [
            "\n",
            "Stage II - Data Processing:\n",
            "DataFrame Info:\n",
            "<class 'pandas.core.frame.DataFrame'>\n",
            "RangeIndex: 10 entries, 0 to 9\n",
            "Data columns (total 5 columns):\n",
            " #   Column        Non-Null Count  Dtype  \n",
            "---  ------        --------------  -----  \n",
            " 0   Height        10 non-null     float64\n",
            " 1   Weight        10 non-null     int64  \n",
            " 2   Age           10 non-null     int64  \n",
            " 3   GripStrength  10 non-null     int64  \n",
            " 4   Frailty       10 non-null     object \n",
            "dtypes: float64(1), int64(3), object(1)\n",
            "memory usage: 532.0+ bytes\n",
            "None\n",
            "DataFrame Preview:\n",
            "   Height  Weight  Age  GripStrength Frailty\n",
            "0    65.8     112   30            30       N\n",
            "1    71.5     136   19            31       N\n",
            "2    69.4     153   45            29       N\n",
            "3    68.2     142   22            28       Y\n",
            "4    67.8     144   29            24       Y\n",
            "Data types after processing:\n",
            "Height          float64\n",
            "Weight            int64\n",
            "Age               int64\n",
            "GripStrength      int64\n",
            "Frailty            bool\n",
            "dtype: object\n",
            "Processed frailty data saved to data/processed/frailty_data_clean.csv\n"
          ]
        }
      ]
    },
    {
      "cell_type": "code",
      "source": [
        "# Stage III: Data Analysis\n",
        "# For example, compare average grip strength for frail vs. non-frail participants\n",
        "\n",
        "analysis = df.groupby('Frailty')['GripStrength'].mean().reset_index()\n",
        "print(\"Average Grip Strength by Frailty Status:\")\n",
        "print(analysis)\n",
        "\n",
        "# Save a simple text summary of the analysis\n",
        "os.makedirs(\"results/frailty_analysis\", exist_ok=True)\n",
        "with open(\"results/frailty_analysis/summary.txt\", \"w\") as f:\n",
        "    f.write(\"Average Grip Strength by Frailty Status:\\n\")\n",
        "    f.write(analysis.to_string(index=False))\n",
        "print(\"Analysis summary saved.\\n\")\n",
        "\n",
        "# Create a heatmap using the analysis results\n",
        "# Pivot the DataFrame so that \"Frailty\" becomes the index\n",
        "heatmap_data = analysis.set_index(\"Frailty\")\n",
        "\n",
        "plt.figure(figsize=(4, 2))\n",
        "sns.heatmap(heatmap_data, annot=True, cmap=\"YlGnBu\", fmt=\".2f\")\n",
        "plt.title(\"Heatmap: Average Grip Strength by Frailty Status\")\n",
        "plt.tight_layout()\n",
        "\n",
        "# Save the heatmap to a file and display it\n",
        "heatmap_filepath = \"results/frailty_analysis/heatmap.png\"\n",
        "plt.savefig(heatmap_filepath)\n",
        "plt.show()\n",
        "print(f\"\\nHeatmap saved to {heatmap_filepath}\")\n"
      ],
      "metadata": {
        "colab": {
          "base_uri": "https://localhost:8080/",
          "height": 346
        },
        "id": "PzG2Q9BLsT1l",
        "outputId": "c90cfbec-3d3b-4908-e6f4-f5907ed42590"
      },
      "execution_count": 53,
      "outputs": [
        {
          "output_type": "stream",
          "name": "stdout",
          "text": [
            "Average Grip Strength by Frailty Status:\n",
            "   Frailty  GripStrength\n",
            "0    False     27.666667\n",
            "1     True     23.500000\n",
            "Analysis summary saved.\n",
            "\n"
          ]
        },
        {
          "output_type": "display_data",
          "data": {
            "text/plain": [
              "<Figure size 400x200 with 2 Axes>"
            ],
            "image/png": "[encoded data removed]"
          },
          "metadata": {}
        },
        {
          "output_type": "stream",
          "name": "stdout",
          "text": [
            "\n",
            "Heatmap saved to results/frailty_analysis/heatmap.png\n"
          ]
        }
      ]
    }
  ]
}